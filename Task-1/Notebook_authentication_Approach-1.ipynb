{
 "cells": [
  {
   "cell_type": "code",
   "execution_count": 1,
   "metadata": {
    "colab": {
     "base_uri": "https://localhost:8080/"
    },
    "id": "u7h5sB503wZu",
    "outputId": "0858652e-d4bd-408f-c9f6-4f9fbc10fd1f",
    "scrolled": true
   },
   "outputs": [
    {
     "name": "stdout",
     "output_type": "stream",
     "text": [
      "Image Paths: ['/content/drive/MyDrive/ml/Notebook_Data/Original/IMG_20241113_162307.jpg', '/content/drive/MyDrive/ml/Notebook_Data/Original/IMG_20241113_162824.jpg', '/content/drive/MyDrive/ml/Notebook_Data/Original/IMG_20241113_162831.jpg', '/content/drive/MyDrive/ml/Notebook_Data/Original/IMG_20241113_162849.jpg', '/content/drive/MyDrive/ml/Notebook_Data/Original/IMG_20241113_162903.jpg', '/content/drive/MyDrive/ml/Notebook_Data/Original/IMG_20241113_162917.jpg', '/content/drive/MyDrive/ml/Notebook_Data/Original/IMG_20241113_163040.jpg', '/content/drive/MyDrive/ml/Notebook_Data/Original/IMG_20241113_163050.jpg', '/content/drive/MyDrive/ml/Notebook_Data/Original/IMG_20241113_163101.jpg', '/content/drive/MyDrive/ml/Notebook_Data/Original/IMG_20241113_163113.jpg', '/content/drive/MyDrive/ml/Notebook_Data/Original/IMG_20241113_163233.jpg', '/content/drive/MyDrive/ml/Notebook_Data/Original/IMG_20241113_163240.jpg', '/content/drive/MyDrive/ml/Notebook_Data/Original/IMG_20241113_163257.jpg', '/content/drive/MyDrive/ml/Notebook_Data/Original/IMG_20241113_163301.jpg', '/content/drive/MyDrive/ml/Notebook_Data/Original/IMG_20241113_163303.jpg', '/content/drive/MyDrive/ml/Notebook_Data/Original/IMG_20241113_163315.jpg', '/content/drive/MyDrive/ml/Notebook_Data/Original/IMG_20241113_163321.jpg', '/content/drive/MyDrive/ml/Notebook_Data/Original/IMG_20241113_163331.jpg', '/content/drive/MyDrive/ml/Notebook_Data/Original/IMG_20241113_163339.jpg', '/content/drive/MyDrive/ml/Notebook_Data/Original/IMG_20241113_163359.jpg', '/content/drive/MyDrive/ml/Notebook_Data/Original/IMG_20241113_163413.jpg', '/content/drive/MyDrive/ml/Notebook_Data/Original/IMG_20241113_164042.jpg', '/content/drive/MyDrive/ml/Notebook_Data/Original/IMG_20241113_164124.jpg', '/content/drive/MyDrive/ml/Notebook_Data/Original/IMG_20241113_164137.jpg', '/content/drive/MyDrive/ml/Notebook_Data/Original/IMG_20241113_164152.jpg', '/content/drive/MyDrive/ml/Notebook_Data/Original/IMG_20241113_164200.jpg', '/content/drive/MyDrive/ml/Notebook_Data/Original/IMG_20241113_164204.jpg', '/content/drive/MyDrive/ml/Notebook_Data/Original/IMG_20241113_164328.jpg', '/content/drive/MyDrive/ml/Notebook_Data/Original/IMG_20241113_164339.jpg', '/content/drive/MyDrive/ml/Notebook_Data/Original/IMG_20241113_162417.jpg', '/content/drive/MyDrive/ml/Notebook_Data/Original/IMG_20241113_162536.jpg', '/content/drive/MyDrive/ml/Notebook_Data/Original/IMG_20241113_162619.jpg', '/content/drive/MyDrive/ml/Notebook_Data/Original/IMG_20241113_162734.jpg', '/content/drive/MyDrive/ml/Notebook_Data/Original/IMG_20241113_162743.jpg', '/content/drive/MyDrive/ml/Notebook_Data/Original/IMG_20241113_162758.jpg', '/content/drive/MyDrive/ml/Notebook_Data/Original/IMG_20241113_162807.jpg', '/content/drive/MyDrive/ml/Notebook_Data/Original/IMG_20241113_162932.jpg', '/content/drive/MyDrive/ml/Notebook_Data/Original/IMG_20241113_162946.jpg', '/content/drive/MyDrive/ml/Notebook_Data/Original/IMG_20241113_162954.jpg', '/content/drive/MyDrive/ml/Notebook_Data/Original/IMG_20241113_163009.jpg', '/content/drive/MyDrive/ml/Notebook_Data/Original/IMG_20241113_163021.jpg', '/content/drive/MyDrive/ml/Notebook_Data/Original/IMG_20241113_163027.jpg', '/content/drive/MyDrive/ml/Notebook_Data/Original/IMG_20241113_163432.jpg', '/content/drive/MyDrive/ml/Notebook_Data/Original/IMG_20241113_163435.jpg', '/content/drive/MyDrive/ml/Notebook_Data/Original/IMG_20241113_163543.jpg', '/content/drive/MyDrive/ml/Notebook_Data/Original/IMG_20241113_163554.jpg', '/content/drive/MyDrive/ml/Notebook_Data/Original/IMG_20241113_163613.jpg', '/content/drive/MyDrive/ml/Notebook_Data/Original/IMG_20241113_163623.jpg', '/content/drive/MyDrive/ml/Notebook_Data/Original/IMG_20241113_163634.jpg', '/content/drive/MyDrive/ml/Notebook_Data/Original/IMG_20241113_164058.jpg', '/content/drive/MyDrive/ml/Notebook_Data/Original/IMG_20241113_164224.jpg', '/content/drive/MyDrive/ml/Notebook_Data/Original/IMG_20241113_164436.jpg', '/content/drive/MyDrive/ml/Notebook_Data/Original/IMG_20241113_164408.jpg', '/content/drive/MyDrive/ml/Notebook_Data/Original/IMG_20241113_164322.jpg', '/content/drive/MyDrive/ml/Notebook_Data/Original/IMG_20241113_162433.jpg', '/content/drive/MyDrive/ml/Notebook_Data/Digital/IMG_20241113_170613.jpg', '/content/drive/MyDrive/ml/Notebook_Data/Digital/IMG_20241113_170701.jpg', '/content/drive/MyDrive/ml/Notebook_Data/Digital/IMG_20241113_170835.jpg', '/content/drive/MyDrive/ml/Notebook_Data/Digital/IMG_20241113_171002.jpg', '/content/drive/MyDrive/ml/Notebook_Data/Digital/IMG_20241113_171017.jpg', '/content/drive/MyDrive/ml/Notebook_Data/Digital/IMG_20241113_171101.jpg', '/content/drive/MyDrive/ml/Notebook_Data/Digital/IMG_20241113_171133.jpg', '/content/drive/MyDrive/ml/Notebook_Data/Digital/IMG_20241113_171224.jpg', '/content/drive/MyDrive/ml/Notebook_Data/Digital/IMG_20241113_171253.jpg', '/content/drive/MyDrive/ml/Notebook_Data/Digital/IMG_20241113_171335.jpg', '/content/drive/MyDrive/ml/Notebook_Data/Digital/IMG_20241113_171355.jpg', '/content/drive/MyDrive/ml/Notebook_Data/Digital/IMG_20241113_171423.jpg', '/content/drive/MyDrive/ml/Notebook_Data/Digital/IMG_20241113_171549.jpg', '/content/drive/MyDrive/ml/Notebook_Data/Digital/IMG_20241113_171635.jpg', '/content/drive/MyDrive/ml/Notebook_Data/Digital/IMG_20241113_171723.jpg', '/content/drive/MyDrive/ml/Notebook_Data/Digital/IMG_20241113_171751.jpg', '/content/drive/MyDrive/ml/Notebook_Data/Digital/IMG_20241113_171810.jpg', '/content/drive/MyDrive/ml/Notebook_Data/Digital/IMG_20241113_171838.jpg', '/content/drive/MyDrive/ml/Notebook_Data/Digital/IMG_20241113_171904.jpg', '/content/drive/MyDrive/ml/Notebook_Data/Digital/IMG_20241113_171937.jpg', '/content/drive/MyDrive/ml/Notebook_Data/Digital/IMG_20241113_172041.jpg', '/content/drive/MyDrive/ml/Notebook_Data/Digital/IMG_20241113_172210.jpg', '/content/drive/MyDrive/ml/Notebook_Data/Digital/IMG_20241113_172309.jpg', '/content/drive/MyDrive/ml/Notebook_Data/Digital/IMG_20241113_172433.jpg', '/content/drive/MyDrive/ml/Notebook_Data/Digital/IMG_20241113_172501.jpg', '/content/drive/MyDrive/ml/Notebook_Data/Digital/IMG_20241113_172524.jpg', '/content/drive/MyDrive/ml/Notebook_Data/Digital/IMG_20241113_172545.jpg', '/content/drive/MyDrive/ml/Notebook_Data/Digital/IMG_20241113_172620.jpg', '/content/drive/MyDrive/ml/Notebook_Data/Digital/IMG_20241113_172649.jpg', '/content/drive/MyDrive/ml/Notebook_Data/Digital/IMG_20241113_172735.jpg', '/content/drive/MyDrive/ml/Notebook_Data/Digital/IMG_20241113_172807.jpg', '/content/drive/MyDrive/ml/Notebook_Data/Digital/IMG_20241113_174141.jpg', '/content/drive/MyDrive/ml/Notebook_Data/Digital/IMG_20241113_174214.jpg', '/content/drive/MyDrive/ml/Notebook_Data/Digital/IMG_20241113_174240.jpg', '/content/drive/MyDrive/ml/Notebook_Data/Digital/IMG_20241113_174310.jpg', '/content/drive/MyDrive/ml/Notebook_Data/Digital/IMG_20241113_174459.jpg', '/content/drive/MyDrive/ml/Notebook_Data/Digital/IMG_20241113_174513.jpg', '/content/drive/MyDrive/ml/Notebook_Data/Digital/IMG_20241113_174532.jpg', '/content/drive/MyDrive/ml/Notebook_Data/Digital/IMG_20241113_174547.jpg', '/content/drive/MyDrive/ml/Notebook_Data/Digital/IMG_20241113_174613.jpg', '/content/drive/MyDrive/ml/Notebook_Data/Digital/IMG_20241113_174645.jpg']\n",
      "Labels: [0, 0, 0, 0, 0, 0, 0, 0, 0, 0, 0, 0, 0, 0, 0, 0, 0, 0, 0, 0, 0, 0, 0, 0, 0, 0, 0, 0, 0, 0, 0, 0, 0, 0, 0, 0, 0, 0, 0, 0, 0, 0, 0, 0, 0, 0, 0, 0, 0, 0, 0, 0, 0, 0, 0, 1, 1, 1, 1, 1, 1, 1, 1, 1, 1, 1, 1, 1, 1, 1, 1, 1, 1, 1, 1, 1, 1, 1, 1, 1, 1, 1, 1, 1, 1, 1, 1, 1, 1, 1, 1, 1, 1, 1, 1, 1]\n"
     ]
    }
   ],
   "source": [
    "import os\n",
    "\n",
    "def get_image_paths_and_labels(data_dir):\n",
    "    image_paths = []\n",
    "    labels = []\n",
    "\n",
    "    # Map subdirectories to labels\n",
    "    label_mapping = {'Original': 0, 'Digital': 1}\n",
    "\n",
    "    for label_name, label in label_mapping.items():\n",
    "        # Get the full path of the subdirectory\n",
    "        label_dir = os.path.join(data_dir, label_name)\n",
    "\n",
    "        # Iterate over each file in the subdirectory\n",
    "        for filename in os.listdir(label_dir):\n",
    "            # Only add files with image extensions\n",
    "            if filename.endswith(('.jpg', '.jpeg', '.png')):\n",
    "                # Append the path and label\n",
    "                image_paths.append(os.path.join(label_dir, filename))\n",
    "                labels.append(label)\n",
    "\n",
    "    return image_paths, labels\n",
    "\n",
    "# Example usage\n",
    "data_dir = '/content/drive/MyDrive/ml/Notebook_Data/'  # Path to your main directory\n",
    "data_image_paths, data_labels = get_image_paths_and_labels(data_dir)\n",
    "\n",
    "# Check the results\n",
    "print(\"Image Paths:\", data_image_paths)\n",
    "print(\"Labels:\", data_labels)\n"
   ]
  },
  {
   "cell_type": "markdown",
   "metadata": {},
   "source": [
    "#### Download Holistic Edge Detection pre-trained model and Deploy.prototxt from [here](https://www.kaggle.com/code/baskarsettu/holistic-edge-detection)"
   ]
  },
  {
   "cell_type": "code",
   "execution_count": 2,
   "metadata": {
    "id": "1CoAlOdMfTaj"
   },
   "outputs": [],
   "source": [
    "import cv2\n",
    "\n",
    "# Load the pre-trained HED model\n",
    "hed_prototxt_path = '/content/drive/MyDrive/ml/hed_model/deploy.prototxt'  # Update with your path\n",
    "hed_model_path = '/content/drive/MyDrive/ml/hed_model/hed_pretrained_bsds.caffemodel'  # Update with your path\n",
    "\n",
    "hed_net = cv2.dnn.readNetFromCaffe(hed_prototxt_path, hed_model_path)\n",
    "\n",
    "def apply_hed_detection(image):\n",
    "    \"\"\"\n",
    "    Apply HED edge detection on the input image.\n",
    "    \"\"\"\n",
    "    # Resize the image to the HED model's expected input size\n",
    "    height, width = image.shape[:2]\n",
    "    blob = cv2.dnn.blobFromImage(image, scalefactor=1.0, size=(img_width, img_height),\n",
    "                                 mean=(104.00698793, 116.66876762, 122.67891434), swapRB=False, crop=False)\n",
    "    hed_net.setInput(blob)\n",
    "    edges = hed_net.forward()\n",
    "    edges = edges[0, 0, :, :]  # Extract the 2D edge map\n",
    "    edges = (255 * edges).astype(np.uint8)  # Convert to 8-bit\n",
    "    return edges"
   ]
  },
  {
   "cell_type": "code",
   "execution_count": 3,
   "metadata": {
    "id": "3PBLZO6O-sNq"
   },
   "outputs": [],
   "source": [
    "#import cv2\n",
    "#import numpy as np\n",
    "#from tensorflow.keras.preprocessing.image import img_to_array, array_to_img\n",
    "\n",
    "#edge detection\n",
    "#def apply_edge_detection(image):\n",
    " #   gray_image = cv2.cvtColor(image, cv2.COLOR_BGR2GRAY)\n",
    " #   edges = cv2.Canny(gray_image, threshold1=100, threshold2=200)\n",
    "  #  return edges\n"
   ]
  },
  {
   "cell_type": "code",
   "execution_count": 4,
   "metadata": {
    "id": "Z7TivzVb-sQp"
   },
   "outputs": [],
   "source": [
    "#frequency\n",
    "def apply_frequency_analysis(image):\n",
    "    gray_image = cv2.cvtColor(image, cv2.COLOR_RGB2GRAY)\n",
    "    f_transform = np.fft.fft2(gray_image)\n",
    "    f_shift = np.fft.fftshift(f_transform)  # Center the low frequencies\n",
    "    magnitude_spectrum = 20 * np.log(np.abs(f_shift) + 1)  # Log scale to visualize\n",
    "    return np.uint8(magnitude_spectrum)  # Normalize to 8-bit\n"
   ]
  },
  {
   "cell_type": "code",
   "execution_count": 5,
   "metadata": {
    "id": "mN7YUUW1-sUA"
   },
   "outputs": [],
   "source": [
    "from skimage.feature import local_binary_pattern\n",
    "\n",
    "# texture\n",
    "def apply_texture_analysis(image):\n",
    "    gray_image = cv2.cvtColor(image, cv2.COLOR_BGR2GRAY)\n",
    "    radius = 1  # Radius for LBP calculation\n",
    "    n_points = 8 * radius  # Number of circularly symmetric neighbor set points\n",
    "    lbp = local_binary_pattern(gray_image, n_points, radius, method='uniform')\n",
    "    lbp = (lbp / lbp.max()) * 255  # Normalize to 8-bit\n",
    "    return lbp.astype(np.uint8)\n"
   ]
  },
  {
   "cell_type": "code",
   "execution_count": 6,
   "metadata": {
    "id": "ueXq139N-sWk"
   },
   "outputs": [],
   "source": [
    "def preprocess_image(image_path):\n",
    "    # Load and resize the image\n",
    "    image = cv2.imread(image_path)\n",
    "    image = cv2.resize(image, (img_width, img_height))\n",
    "\n",
    "    # Apply preprocessing steps\n",
    "    edges = apply_hed_detection(image)\n",
    "    frequency = apply_frequency_analysis(image)\n",
    "    texture = apply_texture_analysis(image)\n",
    "\n",
    "    # Stack all channels\n",
    "    processed_image = np.stack([image[:, :, 0],edges, frequency, texture], axis=-1)\n",
    "    return processed_image\n"
   ]
  },
  {
   "cell_type": "code",
   "execution_count": 7,
   "metadata": {
    "id": "IJxeYT8C-sZn"
   },
   "outputs": [],
   "source": [
    "import tensorflow as tf\n",
    "import numpy as np\n",
    "\n",
    "class CustomDataGenerator(tf.keras.utils.Sequence):\n",
    "    def __init__(self, image_paths, labels, batch_size, img_size):\n",
    "        self.image_paths = image_paths\n",
    "        self.labels = labels\n",
    "        self.batch_size = batch_size\n",
    "        self.classes = np.array(labels)\n",
    "        self.img_size = img_size\n",
    "        self.on_epoch_end()\n",
    "\n",
    "    def __len__(self):\n",
    "        return int(np.floor(len(self.image_paths) / self.batch_size))\n",
    "\n",
    "    def __getitem__(self, index):\n",
    "        batch_paths = self.image_paths[index * self.batch_size:(index + 1) * self.batch_size]\n",
    "        batch_labels = self.labels[index * self.batch_size:(index + 1) * self.batch_size]\n",
    "\n",
    "        images = np.array([preprocess_image(path) for path in batch_paths])\n",
    "        return images, np.array(batch_labels)\n",
    "\n",
    "    def on_epoch_end(self):\n",
    "        self.indices = np.arange(len(self.image_paths))\n",
    "        np.random.shuffle(self.indices)\n",
    "        self.image_paths = [self.image_paths[i] for i in self.indices]\n",
    "        self.labels = [self.labels[i] for i in self.indices]\n"
   ]
  },
  {
   "cell_type": "code",
   "execution_count": 8,
   "metadata": {
    "id": "m_Rq3VSb-sbi"
   },
   "outputs": [],
   "source": [
    "from sklearn.model_selection import train_test_split\n",
    "\n",
    "# Assuming train_image_paths and train_labels are already created\n",
    "train_image_paths, val_image_paths, train_labels, val_labels = train_test_split(\n",
    "    data_image_paths, data_labels, test_size=0.25, random_state=42, stratify=data_labels, shuffle=True)"
   ]
  },
  {
   "cell_type": "code",
   "execution_count": 9,
   "metadata": {
    "colab": {
     "base_uri": "https://localhost:8080/"
    },
    "id": "wMsjP85xLYts",
    "outputId": "50ae85ab-60dc-46df-a216-8c1623304c90"
   },
   "outputs": [
    {
     "data": {
      "text/plain": [
       "72"
      ]
     },
     "execution_count": 9,
     "metadata": {},
     "output_type": "execute_result"
    }
   ],
   "source": [
    "len(train_image_paths)"
   ]
  },
  {
   "cell_type": "code",
   "execution_count": 10,
   "metadata": {
    "colab": {
     "base_uri": "https://localhost:8080/"
    },
    "id": "imfOkznaQ1LA",
    "outputId": "203ffcff-fb21-45dd-e598-a25cd18cb8ff"
   },
   "outputs": [
    {
     "data": {
      "text/plain": [
       "24"
      ]
     },
     "execution_count": 10,
     "metadata": {},
     "output_type": "execute_result"
    }
   ],
   "source": [
    "len(val_image_paths)"
   ]
  },
  {
   "cell_type": "code",
   "execution_count": 11,
   "metadata": {
    "id": "7jZSqbh3Qk52"
   },
   "outputs": [],
   "source": [
    "batch_size = 8\n",
    "img_height = 400\n",
    "img_width = 300\n",
    "\n",
    "# Initialize data generators\n",
    "train_generator = CustomDataGenerator(train_image_paths, train_labels, batch_size, (img_height, img_width))\n",
    "val_generator = CustomDataGenerator(val_image_paths, val_labels, batch_size, (img_height, img_width))\n"
   ]
  },
  {
   "cell_type": "code",
   "execution_count": 12,
   "metadata": {
    "colab": {
     "base_uri": "https://localhost:8080/",
     "height": 632
    },
    "id": "macS-Hf5-seW",
    "outputId": "099dfa2c-55b8-4987-fd41-62f7e7bb96b7"
   },
   "outputs": [
    {
     "name": "stderr",
     "output_type": "stream",
     "text": [
      "/usr/local/lib/python3.10/dist-packages/keras/src/layers/convolutional/base_conv.py:107: UserWarning: Do not pass an `input_shape`/`input_dim` argument to a layer. When using Sequential models, prefer using an `Input(shape)` object as the first layer in the model instead.\n",
      "  super().__init__(activity_regularizer=activity_regularizer, **kwargs)\n"
     ]
    },
    {
     "data": {
      "text/html": [
       "<pre style=\"white-space:pre;overflow-x:auto;line-height:normal;font-family:Menlo,'DejaVu Sans Mono',consolas,'Courier New',monospace\"><span style=\"font-weight: bold\">Model: \"sequential\"</span>\n",
       "</pre>\n"
      ],
      "text/plain": [
       "\u001b[1mModel: \"sequential\"\u001b[0m\n"
      ]
     },
     "metadata": {},
     "output_type": "display_data"
    },
    {
     "data": {
      "text/html": [
       "<pre style=\"white-space:pre;overflow-x:auto;line-height:normal;font-family:Menlo,'DejaVu Sans Mono',consolas,'Courier New',monospace\">┏━━━━━━━━━━━━━━━━━━━━━━━━━━━━━━━━━━━━━━┳━━━━━━━━━━━━━━━━━━━━━━━━━━━━━┳━━━━━━━━━━━━━━━━━┓\n",
       "┃<span style=\"font-weight: bold\"> Layer (type)                         </span>┃<span style=\"font-weight: bold\"> Output Shape                </span>┃<span style=\"font-weight: bold\">         Param # </span>┃\n",
       "┡━━━━━━━━━━━━━━━━━━━━━━━━━━━━━━━━━━━━━━╇━━━━━━━━━━━━━━━━━━━━━━━━━━━━━╇━━━━━━━━━━━━━━━━━┩\n",
       "│ conv2d (<span style=\"color: #0087ff; text-decoration-color: #0087ff\">Conv2D</span>)                      │ (<span style=\"color: #00d7ff; text-decoration-color: #00d7ff\">None</span>, <span style=\"color: #00af00; text-decoration-color: #00af00\">398</span>, <span style=\"color: #00af00; text-decoration-color: #00af00\">298</span>, <span style=\"color: #00af00; text-decoration-color: #00af00\">32</span>)        │           <span style=\"color: #00af00; text-decoration-color: #00af00\">1,184</span> │\n",
       "├──────────────────────────────────────┼─────────────────────────────┼─────────────────┤\n",
       "│ max_pooling2d (<span style=\"color: #0087ff; text-decoration-color: #0087ff\">MaxPooling2D</span>)         │ (<span style=\"color: #00d7ff; text-decoration-color: #00d7ff\">None</span>, <span style=\"color: #00af00; text-decoration-color: #00af00\">199</span>, <span style=\"color: #00af00; text-decoration-color: #00af00\">149</span>, <span style=\"color: #00af00; text-decoration-color: #00af00\">32</span>)        │               <span style=\"color: #00af00; text-decoration-color: #00af00\">0</span> │\n",
       "├──────────────────────────────────────┼─────────────────────────────┼─────────────────┤\n",
       "│ conv2d_1 (<span style=\"color: #0087ff; text-decoration-color: #0087ff\">Conv2D</span>)                    │ (<span style=\"color: #00d7ff; text-decoration-color: #00d7ff\">None</span>, <span style=\"color: #00af00; text-decoration-color: #00af00\">197</span>, <span style=\"color: #00af00; text-decoration-color: #00af00\">147</span>, <span style=\"color: #00af00; text-decoration-color: #00af00\">32</span>)        │           <span style=\"color: #00af00; text-decoration-color: #00af00\">9,248</span> │\n",
       "├──────────────────────────────────────┼─────────────────────────────┼─────────────────┤\n",
       "│ max_pooling2d_1 (<span style=\"color: #0087ff; text-decoration-color: #0087ff\">MaxPooling2D</span>)       │ (<span style=\"color: #00d7ff; text-decoration-color: #00d7ff\">None</span>, <span style=\"color: #00af00; text-decoration-color: #00af00\">98</span>, <span style=\"color: #00af00; text-decoration-color: #00af00\">73</span>, <span style=\"color: #00af00; text-decoration-color: #00af00\">32</span>)          │               <span style=\"color: #00af00; text-decoration-color: #00af00\">0</span> │\n",
       "├──────────────────────────────────────┼─────────────────────────────┼─────────────────┤\n",
       "│ conv2d_2 (<span style=\"color: #0087ff; text-decoration-color: #0087ff\">Conv2D</span>)                    │ (<span style=\"color: #00d7ff; text-decoration-color: #00d7ff\">None</span>, <span style=\"color: #00af00; text-decoration-color: #00af00\">96</span>, <span style=\"color: #00af00; text-decoration-color: #00af00\">71</span>, <span style=\"color: #00af00; text-decoration-color: #00af00\">64</span>)          │          <span style=\"color: #00af00; text-decoration-color: #00af00\">18,496</span> │\n",
       "├──────────────────────────────────────┼─────────────────────────────┼─────────────────┤\n",
       "│ max_pooling2d_2 (<span style=\"color: #0087ff; text-decoration-color: #0087ff\">MaxPooling2D</span>)       │ (<span style=\"color: #00d7ff; text-decoration-color: #00d7ff\">None</span>, <span style=\"color: #00af00; text-decoration-color: #00af00\">48</span>, <span style=\"color: #00af00; text-decoration-color: #00af00\">35</span>, <span style=\"color: #00af00; text-decoration-color: #00af00\">64</span>)          │               <span style=\"color: #00af00; text-decoration-color: #00af00\">0</span> │\n",
       "├──────────────────────────────────────┼─────────────────────────────┼─────────────────┤\n",
       "│ conv2d_3 (<span style=\"color: #0087ff; text-decoration-color: #0087ff\">Conv2D</span>)                    │ (<span style=\"color: #00d7ff; text-decoration-color: #00d7ff\">None</span>, <span style=\"color: #00af00; text-decoration-color: #00af00\">46</span>, <span style=\"color: #00af00; text-decoration-color: #00af00\">33</span>, <span style=\"color: #00af00; text-decoration-color: #00af00\">64</span>)          │          <span style=\"color: #00af00; text-decoration-color: #00af00\">36,928</span> │\n",
       "├──────────────────────────────────────┼─────────────────────────────┼─────────────────┤\n",
       "│ max_pooling2d_3 (<span style=\"color: #0087ff; text-decoration-color: #0087ff\">MaxPooling2D</span>)       │ (<span style=\"color: #00d7ff; text-decoration-color: #00d7ff\">None</span>, <span style=\"color: #00af00; text-decoration-color: #00af00\">23</span>, <span style=\"color: #00af00; text-decoration-color: #00af00\">16</span>, <span style=\"color: #00af00; text-decoration-color: #00af00\">64</span>)          │               <span style=\"color: #00af00; text-decoration-color: #00af00\">0</span> │\n",
       "├──────────────────────────────────────┼─────────────────────────────┼─────────────────┤\n",
       "│ conv2d_4 (<span style=\"color: #0087ff; text-decoration-color: #0087ff\">Conv2D</span>)                    │ (<span style=\"color: #00d7ff; text-decoration-color: #00d7ff\">None</span>, <span style=\"color: #00af00; text-decoration-color: #00af00\">21</span>, <span style=\"color: #00af00; text-decoration-color: #00af00\">14</span>, <span style=\"color: #00af00; text-decoration-color: #00af00\">128</span>)         │          <span style=\"color: #00af00; text-decoration-color: #00af00\">73,856</span> │\n",
       "├──────────────────────────────────────┼─────────────────────────────┼─────────────────┤\n",
       "│ max_pooling2d_4 (<span style=\"color: #0087ff; text-decoration-color: #0087ff\">MaxPooling2D</span>)       │ (<span style=\"color: #00d7ff; text-decoration-color: #00d7ff\">None</span>, <span style=\"color: #00af00; text-decoration-color: #00af00\">10</span>, <span style=\"color: #00af00; text-decoration-color: #00af00\">7</span>, <span style=\"color: #00af00; text-decoration-color: #00af00\">128</span>)          │               <span style=\"color: #00af00; text-decoration-color: #00af00\">0</span> │\n",
       "├──────────────────────────────────────┼─────────────────────────────┼─────────────────┤\n",
       "│ flatten (<span style=\"color: #0087ff; text-decoration-color: #0087ff\">Flatten</span>)                    │ (<span style=\"color: #00d7ff; text-decoration-color: #00d7ff\">None</span>, <span style=\"color: #00af00; text-decoration-color: #00af00\">8960</span>)                │               <span style=\"color: #00af00; text-decoration-color: #00af00\">0</span> │\n",
       "├──────────────────────────────────────┼─────────────────────────────┼─────────────────┤\n",
       "│ dense (<span style=\"color: #0087ff; text-decoration-color: #0087ff\">Dense</span>)                        │ (<span style=\"color: #00d7ff; text-decoration-color: #00d7ff\">None</span>, <span style=\"color: #00af00; text-decoration-color: #00af00\">128</span>)                 │       <span style=\"color: #00af00; text-decoration-color: #00af00\">1,147,008</span> │\n",
       "├──────────────────────────────────────┼─────────────────────────────┼─────────────────┤\n",
       "│ dropout (<span style=\"color: #0087ff; text-decoration-color: #0087ff\">Dropout</span>)                    │ (<span style=\"color: #00d7ff; text-decoration-color: #00d7ff\">None</span>, <span style=\"color: #00af00; text-decoration-color: #00af00\">128</span>)                 │               <span style=\"color: #00af00; text-decoration-color: #00af00\">0</span> │\n",
       "├──────────────────────────────────────┼─────────────────────────────┼─────────────────┤\n",
       "│ dense_1 (<span style=\"color: #0087ff; text-decoration-color: #0087ff\">Dense</span>)                      │ (<span style=\"color: #00d7ff; text-decoration-color: #00d7ff\">None</span>, <span style=\"color: #00af00; text-decoration-color: #00af00\">1</span>)                   │             <span style=\"color: #00af00; text-decoration-color: #00af00\">129</span> │\n",
       "└──────────────────────────────────────┴─────────────────────────────┴─────────────────┘\n",
       "</pre>\n"
      ],
      "text/plain": [
       "┏━━━━━━━━━━━━━━━━━━━━━━━━━━━━━━━━━━━━━━┳━━━━━━━━━━━━━━━━━━━━━━━━━━━━━┳━━━━━━━━━━━━━━━━━┓\n",
       "┃\u001b[1m \u001b[0m\u001b[1mLayer (type)                        \u001b[0m\u001b[1m \u001b[0m┃\u001b[1m \u001b[0m\u001b[1mOutput Shape               \u001b[0m\u001b[1m \u001b[0m┃\u001b[1m \u001b[0m\u001b[1m        Param #\u001b[0m\u001b[1m \u001b[0m┃\n",
       "┡━━━━━━━━━━━━━━━━━━━━━━━━━━━━━━━━━━━━━━╇━━━━━━━━━━━━━━━━━━━━━━━━━━━━━╇━━━━━━━━━━━━━━━━━┩\n",
       "│ conv2d (\u001b[38;5;33mConv2D\u001b[0m)                      │ (\u001b[38;5;45mNone\u001b[0m, \u001b[38;5;34m398\u001b[0m, \u001b[38;5;34m298\u001b[0m, \u001b[38;5;34m32\u001b[0m)        │           \u001b[38;5;34m1,184\u001b[0m │\n",
       "├──────────────────────────────────────┼─────────────────────────────┼─────────────────┤\n",
       "│ max_pooling2d (\u001b[38;5;33mMaxPooling2D\u001b[0m)         │ (\u001b[38;5;45mNone\u001b[0m, \u001b[38;5;34m199\u001b[0m, \u001b[38;5;34m149\u001b[0m, \u001b[38;5;34m32\u001b[0m)        │               \u001b[38;5;34m0\u001b[0m │\n",
       "├──────────────────────────────────────┼─────────────────────────────┼─────────────────┤\n",
       "│ conv2d_1 (\u001b[38;5;33mConv2D\u001b[0m)                    │ (\u001b[38;5;45mNone\u001b[0m, \u001b[38;5;34m197\u001b[0m, \u001b[38;5;34m147\u001b[0m, \u001b[38;5;34m32\u001b[0m)        │           \u001b[38;5;34m9,248\u001b[0m │\n",
       "├──────────────────────────────────────┼─────────────────────────────┼─────────────────┤\n",
       "│ max_pooling2d_1 (\u001b[38;5;33mMaxPooling2D\u001b[0m)       │ (\u001b[38;5;45mNone\u001b[0m, \u001b[38;5;34m98\u001b[0m, \u001b[38;5;34m73\u001b[0m, \u001b[38;5;34m32\u001b[0m)          │               \u001b[38;5;34m0\u001b[0m │\n",
       "├──────────────────────────────────────┼─────────────────────────────┼─────────────────┤\n",
       "│ conv2d_2 (\u001b[38;5;33mConv2D\u001b[0m)                    │ (\u001b[38;5;45mNone\u001b[0m, \u001b[38;5;34m96\u001b[0m, \u001b[38;5;34m71\u001b[0m, \u001b[38;5;34m64\u001b[0m)          │          \u001b[38;5;34m18,496\u001b[0m │\n",
       "├──────────────────────────────────────┼─────────────────────────────┼─────────────────┤\n",
       "│ max_pooling2d_2 (\u001b[38;5;33mMaxPooling2D\u001b[0m)       │ (\u001b[38;5;45mNone\u001b[0m, \u001b[38;5;34m48\u001b[0m, \u001b[38;5;34m35\u001b[0m, \u001b[38;5;34m64\u001b[0m)          │               \u001b[38;5;34m0\u001b[0m │\n",
       "├──────────────────────────────────────┼─────────────────────────────┼─────────────────┤\n",
       "│ conv2d_3 (\u001b[38;5;33mConv2D\u001b[0m)                    │ (\u001b[38;5;45mNone\u001b[0m, \u001b[38;5;34m46\u001b[0m, \u001b[38;5;34m33\u001b[0m, \u001b[38;5;34m64\u001b[0m)          │          \u001b[38;5;34m36,928\u001b[0m │\n",
       "├──────────────────────────────────────┼─────────────────────────────┼─────────────────┤\n",
       "│ max_pooling2d_3 (\u001b[38;5;33mMaxPooling2D\u001b[0m)       │ (\u001b[38;5;45mNone\u001b[0m, \u001b[38;5;34m23\u001b[0m, \u001b[38;5;34m16\u001b[0m, \u001b[38;5;34m64\u001b[0m)          │               \u001b[38;5;34m0\u001b[0m │\n",
       "├──────────────────────────────────────┼─────────────────────────────┼─────────────────┤\n",
       "│ conv2d_4 (\u001b[38;5;33mConv2D\u001b[0m)                    │ (\u001b[38;5;45mNone\u001b[0m, \u001b[38;5;34m21\u001b[0m, \u001b[38;5;34m14\u001b[0m, \u001b[38;5;34m128\u001b[0m)         │          \u001b[38;5;34m73,856\u001b[0m │\n",
       "├──────────────────────────────────────┼─────────────────────────────┼─────────────────┤\n",
       "│ max_pooling2d_4 (\u001b[38;5;33mMaxPooling2D\u001b[0m)       │ (\u001b[38;5;45mNone\u001b[0m, \u001b[38;5;34m10\u001b[0m, \u001b[38;5;34m7\u001b[0m, \u001b[38;5;34m128\u001b[0m)          │               \u001b[38;5;34m0\u001b[0m │\n",
       "├──────────────────────────────────────┼─────────────────────────────┼─────────────────┤\n",
       "│ flatten (\u001b[38;5;33mFlatten\u001b[0m)                    │ (\u001b[38;5;45mNone\u001b[0m, \u001b[38;5;34m8960\u001b[0m)                │               \u001b[38;5;34m0\u001b[0m │\n",
       "├──────────────────────────────────────┼─────────────────────────────┼─────────────────┤\n",
       "│ dense (\u001b[38;5;33mDense\u001b[0m)                        │ (\u001b[38;5;45mNone\u001b[0m, \u001b[38;5;34m128\u001b[0m)                 │       \u001b[38;5;34m1,147,008\u001b[0m │\n",
       "├──────────────────────────────────────┼─────────────────────────────┼─────────────────┤\n",
       "│ dropout (\u001b[38;5;33mDropout\u001b[0m)                    │ (\u001b[38;5;45mNone\u001b[0m, \u001b[38;5;34m128\u001b[0m)                 │               \u001b[38;5;34m0\u001b[0m │\n",
       "├──────────────────────────────────────┼─────────────────────────────┼─────────────────┤\n",
       "│ dense_1 (\u001b[38;5;33mDense\u001b[0m)                      │ (\u001b[38;5;45mNone\u001b[0m, \u001b[38;5;34m1\u001b[0m)                   │             \u001b[38;5;34m129\u001b[0m │\n",
       "└──────────────────────────────────────┴─────────────────────────────┴─────────────────┘\n"
      ]
     },
     "metadata": {},
     "output_type": "display_data"
    },
    {
     "data": {
      "text/html": [
       "<pre style=\"white-space:pre;overflow-x:auto;line-height:normal;font-family:Menlo,'DejaVu Sans Mono',consolas,'Courier New',monospace\"><span style=\"font-weight: bold\"> Total params: </span><span style=\"color: #00af00; text-decoration-color: #00af00\">1,286,849</span> (4.91 MB)\n",
       "</pre>\n"
      ],
      "text/plain": [
       "\u001b[1m Total params: \u001b[0m\u001b[38;5;34m1,286,849\u001b[0m (4.91 MB)\n"
      ]
     },
     "metadata": {},
     "output_type": "display_data"
    },
    {
     "data": {
      "text/html": [
       "<pre style=\"white-space:pre;overflow-x:auto;line-height:normal;font-family:Menlo,'DejaVu Sans Mono',consolas,'Courier New',monospace\"><span style=\"font-weight: bold\"> Trainable params: </span><span style=\"color: #00af00; text-decoration-color: #00af00\">1,286,849</span> (4.91 MB)\n",
       "</pre>\n"
      ],
      "text/plain": [
       "\u001b[1m Trainable params: \u001b[0m\u001b[38;5;34m1,286,849\u001b[0m (4.91 MB)\n"
      ]
     },
     "metadata": {},
     "output_type": "display_data"
    },
    {
     "data": {
      "text/html": [
       "<pre style=\"white-space:pre;overflow-x:auto;line-height:normal;font-family:Menlo,'DejaVu Sans Mono',consolas,'Courier New',monospace\"><span style=\"font-weight: bold\"> Non-trainable params: </span><span style=\"color: #00af00; text-decoration-color: #00af00\">0</span> (0.00 B)\n",
       "</pre>\n"
      ],
      "text/plain": [
       "\u001b[1m Non-trainable params: \u001b[0m\u001b[38;5;34m0\u001b[0m (0.00 B)\n"
      ]
     },
     "metadata": {},
     "output_type": "display_data"
    }
   ],
   "source": [
    "from tensorflow.keras.models import Sequential\n",
    "from tensorflow.keras.layers import Conv2D, MaxPooling2D, Flatten, Dense, Dropout\n",
    "def build_cnn_model(input_shape=(img_height, img_width, 4)):  # 4 channels instead of 3\n",
    "    model = Sequential([\n",
    "        Conv2D(32, (3, 3), activation='relu', input_shape=input_shape),\n",
    "        MaxPooling2D(pool_size=(2, 2)),\n",
    "        Conv2D(32, (3, 3), activation='relu'),\n",
    "        MaxPooling2D(pool_size=(2, 2)),\n",
    "        Conv2D(64, (3, 3), activation='relu'),\n",
    "        MaxPooling2D(pool_size=(2, 2)),\n",
    "        Conv2D(64, (3, 3), activation='relu'),\n",
    "        MaxPooling2D(pool_size=(2, 2)),\n",
    "        Conv2D(128, (3, 3), activation='relu'),\n",
    "        MaxPooling2D(pool_size=(2, 2)),\n",
    "        Flatten(),\n",
    "        Dense(128, activation='relu'),\n",
    "        Dropout(0.5),\n",
    "        Dense(1, activation='sigmoid')\n",
    "    ])\n",
    "    model.compile(optimizer='adam', loss='binary_crossentropy', metrics=['accuracy'])\n",
    "    return model\n",
    "\n",
    "model = build_cnn_model()\n",
    "model.summary()\n"
   ]
  },
  {
   "cell_type": "code",
   "execution_count": 13,
   "metadata": {
    "colab": {
     "base_uri": "https://localhost:8080/"
    },
    "id": "oPNv_xhE-shP",
    "outputId": "d5f4604e-24c4-49fc-8d46-62b910159388"
   },
   "outputs": [
    {
     "metadata": {
      "tags": null
     },
     "name": "stdout",
     "output_type": "stream",
     "text": [
      "Epoch 1/15\n"
     ]
    },
    {
     "metadata": {
      "tags": null
     },
     "name": "stderr",
     "output_type": "stream",
     "text": [
      "/usr/local/lib/python3.10/dist-packages/keras/src/trainers/data_adapters/py_dataset_adapter.py:121: UserWarning: Your `PyDataset` class should call `super().__init__(**kwargs)` in its constructor. `**kwargs` can include `workers`, `use_multiprocessing`, `max_queue_size`. Do not pass these arguments to `fit()`, as they will be ignored.\n",
      "  self._warn_if_super_not_called()\n"
     ]
    },
    {
     "name": "stdout",
     "output_type": "stream",
     "text": [
      "\u001b[1m9/9\u001b[0m \u001b[32m━━━━━━━━━━━━━━━━━━━━\u001b[0m\u001b[37m\u001b[0m \u001b[1m215s\u001b[0m 12s/step - accuracy: 0.3858 - loss: 40.8622 - val_accuracy: 0.5833 - val_loss: 0.6611\n",
      "Epoch 2/15\n",
      "\u001b[1m9/9\u001b[0m \u001b[32m━━━━━━━━━━━━━━━━━━━━\u001b[0m\u001b[37m\u001b[0m \u001b[1m218s\u001b[0m 9s/step - accuracy: 0.6484 - loss: 0.9197 - val_accuracy: 0.2500 - val_loss: 0.7145\n",
      "Epoch 3/15\n",
      "\u001b[1m9/9\u001b[0m \u001b[32m━━━━━━━━━━━━━━━━━━━━\u001b[0m\u001b[37m\u001b[0m \u001b[1m194s\u001b[0m 8s/step - accuracy: 0.4571 - loss: 0.7858 - val_accuracy: 0.5833 - val_loss: 0.6391\n",
      "Epoch 4/15\n",
      "\u001b[1m9/9\u001b[0m \u001b[32m━━━━━━━━━━━━━━━━━━━━\u001b[0m\u001b[37m\u001b[0m \u001b[1m163s\u001b[0m 8s/step - accuracy: 0.4552 - loss: 0.8916 - val_accuracy: 0.4167 - val_loss: 0.6839\n",
      "Epoch 5/15\n",
      "\u001b[1m9/9\u001b[0m \u001b[32m━━━━━━━━━━━━━━━━━━━━\u001b[0m\u001b[37m\u001b[0m \u001b[1m206s\u001b[0m 8s/step - accuracy: 0.4061 - loss: 0.7966 - val_accuracy: 0.4583 - val_loss: 0.6824\n",
      "Epoch 6/15\n",
      "\u001b[1m9/9\u001b[0m \u001b[32m━━━━━━━━━━━━━━━━━━━━\u001b[0m\u001b[37m\u001b[0m \u001b[1m196s\u001b[0m 8s/step - accuracy: 0.6432 - loss: 0.6621 - val_accuracy: 0.5833 - val_loss: 0.6662\n",
      "Epoch 7/15\n",
      "\u001b[1m9/9\u001b[0m \u001b[32m━━━━━━━━━━━━━━━━━━━━\u001b[0m\u001b[37m\u001b[0m \u001b[1m221s\u001b[0m 10s/step - accuracy: 0.5412 - loss: 0.6791 - val_accuracy: 0.5833 - val_loss: 0.6478\n",
      "Epoch 8/15\n",
      "\u001b[1m9/9\u001b[0m \u001b[32m━━━━━━━━━━━━━━━━━━━━\u001b[0m\u001b[37m\u001b[0m \u001b[1m183s\u001b[0m 8s/step - accuracy: 0.7058 - loss: 0.5981 - val_accuracy: 0.9583 - val_loss: 0.4395\n",
      "Epoch 9/15\n",
      "\u001b[1m9/9\u001b[0m \u001b[32m━━━━━━━━━━━━━━━━━━━━\u001b[0m\u001b[37m\u001b[0m \u001b[1m194s\u001b[0m 8s/step - accuracy: 0.6598 - loss: 0.6480 - val_accuracy: 0.5833 - val_loss: 0.7413\n",
      "Epoch 10/15\n",
      "\u001b[1m9/9\u001b[0m \u001b[32m━━━━━━━━━━━━━━━━━━━━\u001b[0m\u001b[37m\u001b[0m \u001b[1m160s\u001b[0m 8s/step - accuracy: 0.6080 - loss: 0.6533 - val_accuracy: 0.5833 - val_loss: 0.6898\n",
      "Epoch 11/15\n",
      "\u001b[1m9/9\u001b[0m \u001b[32m━━━━━━━━━━━━━━━━━━━━\u001b[0m\u001b[37m\u001b[0m \u001b[1m208s\u001b[0m 7s/step - accuracy: 0.4041 - loss: 0.6972 - val_accuracy: 0.5833 - val_loss: 0.6666\n",
      "Epoch 12/15\n",
      "\u001b[1m9/9\u001b[0m \u001b[32m━━━━━━━━━━━━━━━━━━━━\u001b[0m\u001b[37m\u001b[0m \u001b[1m158s\u001b[0m 8s/step - accuracy: 0.3626 - loss: 0.7082 - val_accuracy: 0.5833 - val_loss: 0.6520\n",
      "Epoch 13/15\n",
      "\u001b[1m9/9\u001b[0m \u001b[32m━━━━━━━━━━━━━━━━━━━━\u001b[0m\u001b[37m\u001b[0m \u001b[1m207s\u001b[0m 8s/step - accuracy: 0.6291 - loss: 0.6878 - val_accuracy: 0.5833 - val_loss: 0.6474\n",
      "Epoch 14/15\n",
      "\u001b[1m9/9\u001b[0m \u001b[32m━━━━━━━━━━━━━━━━━━━━\u001b[0m\u001b[37m\u001b[0m \u001b[1m204s\u001b[0m 8s/step - accuracy: 0.5806 - loss: 0.6417 - val_accuracy: 0.7500 - val_loss: 0.6256\n",
      "Epoch 15/15\n",
      "\u001b[1m9/9\u001b[0m \u001b[32m━━━━━━━━━━━━━━━━━━━━\u001b[0m\u001b[37m\u001b[0m \u001b[1m164s\u001b[0m 8s/step - accuracy: 0.5283 - loss: 0.6558 - val_accuracy: 0.7083 - val_loss: 0.6094\n"
     ]
    }
   ],
   "source": [
    "epochs = 15\n",
    "history = model.fit(\n",
    "    train_generator,\n",
    "    validation_data=val_generator,\n",
    "    epochs=epochs\n",
    ")"
   ]
  },
  {
   "cell_type": "code",
   "execution_count": 38,
   "metadata": {
    "colab": {
     "base_uri": "https://localhost:8080/"
    },
    "id": "P-achh_q-skd",
    "outputId": "c04d3f68-9e2c-4e15-9f68-4d50350b0396"
   },
   "outputs": [
    {
     "name": "stdout",
     "output_type": "stream",
     "text": [
      "\u001b[1m3/3\u001b[0m \u001b[32m━━━━━━━━━━━━━━━━━━━━\u001b[0m\u001b[37m\u001b[0m \u001b[1m37s\u001b[0m 12s/step - accuracy: 0.6979 - loss: 0.6069\n"
     ]
    },
    {
     "data": {
      "text/plain": [
       "[0.6093950271606445, 0.7083333134651184]"
      ]
     },
     "execution_count": 38,
     "metadata": {},
     "output_type": "execute_result"
    }
   ],
   "source": [
    "model.evaluate(val_generator)"
   ]
  },
  {
   "cell_type": "code",
   "execution_count": 15,
   "metadata": {
    "colab": {
     "base_uri": "https://localhost:8080/",
     "height": 545
    },
    "id": "0xHbCft2VLVF",
    "outputId": "8dbf4edd-43f7-4510-d623-91a813c8e43e"
   },
   "outputs": [
    {
     "data": {
      "image/png": "[encoded data removed]",
      "text/plain": [
       "<Figure size 1000x600 with 2 Axes>"
      ]
     },
     "metadata": {},
     "output_type": "display_data"
    }
   ],
   "source": [
    "import matplotlib.pyplot as plt\n",
    "\n",
    "# Plot training & validation accuracy and loss\n",
    "acc = history.history['accuracy']\n",
    "val_acc = history.history['val_accuracy']\n",
    "loss = history.history['loss']\n",
    "val_loss = history.history['val_loss']\n",
    "\n",
    "epochs_range = range(epochs)\n",
    "\n",
    "plt.figure(figsize=(10, 6))\n",
    "plt.subplot(1, 2, 1)\n",
    "plt.plot(epochs_range, acc, label='Training Accuracy')\n",
    "plt.plot(epochs_range, val_acc, label='Validation Accuracy')\n",
    "plt.legend(loc='upper left')\n",
    "plt.title('Training and Validation Accuracy')\n",
    "\n",
    "plt.subplot(1, 2, 2)\n",
    "plt.plot(epochs_range, loss, label='Training Loss')\n",
    "plt.plot(epochs_range, val_loss, label='Validation Loss')\n",
    "plt.legend(loc='upper right')\n",
    "plt.title('Training and Validation Loss')\n",
    "plt.show()\n"
   ]
  },
  {
   "cell_type": "code",
   "execution_count": 16,
   "metadata": {
    "colab": {
     "base_uri": "https://localhost:8080/"
    },
    "id": "yQlcR_ey-spD",
    "outputId": "dc47d964-a32f-4ae0-a9f6-d38a5ed513bc"
   },
   "outputs": [
    {
     "name": "stdout",
     "output_type": "stream",
     "text": [
      "\u001b[1m3/3\u001b[0m \u001b[32m━━━━━━━━━━━━━━━━━━━━\u001b[0m\u001b[37m\u001b[0m \u001b[1m37s\u001b[0m 12s/step\n",
      "              precision    recall  f1-score   support\n",
      "\n",
      "    Original       0.71      0.86      0.77        14\n",
      "     Digital       0.71      0.50      0.59        10\n",
      "\n",
      "    accuracy                           0.71        24\n",
      "   macro avg       0.71      0.68      0.68        24\n",
      "weighted avg       0.71      0.71      0.70        24\n",
      "\n",
      "[[12  2]\n",
      " [ 5  5]]\n"
     ]
    }
   ],
   "source": [
    "from sklearn.metrics import classification_report, confusion_matrix\n",
    "import numpy as np\n",
    "\n",
    "# Predictions on validation data\n",
    "test_predictions = (model.predict(val_generator) > 0.5).astype(\"int32\")\n",
    "\n",
    "# Calculate metrics\n",
    "true_labels = val_generator.classes\n",
    "print(classification_report(true_labels, test_predictions, target_names=['Original', 'Digital']))\n",
    "\n",
    "# Confusion matrix\n",
    "print(confusion_matrix(true_labels, test_predictions))\n"
   ]
  },
  {
   "cell_type": "code",
   "execution_count": 28,
   "metadata": {
    "colab": {
     "base_uri": "https://localhost:8080/"
    },
    "id": "_-he2KbiiVao",
    "outputId": "e0c50523-bf0b-46c8-9ae5-d405b31be427"
   },
   "outputs": [
    {
     "name": "stdout",
     "output_type": "stream",
     "text": [
      "\u001b[1m1/1\u001b[0m \u001b[32m━━━━━━━━━━━━━━━━━━━━\u001b[0m\u001b[37m\u001b[0m \u001b[1m0s\u001b[0m 100ms/step\n",
      "Image: /content/drive/MyDrive/ml/test_notebook/4.jpg\n",
      "Predicted Label: Original\n"
     ]
    }
   ],
   "source": [
    "#Preprocess and predict the label for a single image.\n",
    "\n",
    "def predict_single_image(image_path):\n",
    "    \"\"\"\n",
    "    Preprocess and predict the label for a single image.\n",
    "    \"\"\"\n",
    "    # Load and preprocess the image\n",
    "    image = cv2.imread(image_path)\n",
    "    if image is None:\n",
    "        raise ValueError(f\"Could not read image: {image_path}\")\n",
    "\n",
    "    # Resize the image to the required input size\n",
    "    image = cv2.resize(image, (img_width, img_height))\n",
    "\n",
    "    # Apply preprocessing\n",
    "    edges = apply_hed_detection(image)\n",
    "    frequency = apply_frequency_analysis(image)\n",
    "    texture = apply_texture_analysis(image)\n",
    "\n",
    "    # Stack the channels\n",
    "    processed_image = np.stack([image[:, :, 0], edges, frequency, texture], axis=-1)\n",
    "\n",
    "    # Add batch dimension\n",
    "    processed_image = np.expand_dims(processed_image, axis=0)  # Shape: (1, img_height, img_width, 4)\n",
    "\n",
    "    # Predict the label\n",
    "    prediction = model.predict(processed_image)[0]\n",
    "\n",
    "    # Interpret the prediction\n",
    "    label = \"Original\" if prediction < 0.5 else \"Digital\"\n",
    "\n",
    "    return label\n",
    "\n",
    "# Path to the single image\n",
    "single_image_path = '/content/drive/MyDrive/ml/test_notebook/4.jpg'  # Replace with the actual image path\n",
    "\n",
    "# Predict\n",
    "label = predict_single_image(single_image_path)\n",
    "\n",
    "# Display the result\n",
    "print(f\"Image: {single_image_path}\")\n",
    "print(f\"Predicted Label: {label}\")\n",
    "\n"
   ]
  },
  {
   "cell_type": "code",
   "execution_count": 36,
   "metadata": {
    "colab": {
     "base_uri": "https://localhost:8080/"
    },
    "id": "sCHWovuRhbQn",
    "outputId": "6c6ead9c-c260-4c50-b807-f9a06018971c"
   },
   "outputs": [
    {
     "name": "stdout",
     "output_type": "stream",
     "text": [
      "Shape of the test images batch: (8, 400, 300, 4)\n",
      "\u001b[1m1/1\u001b[0m \u001b[32m━━━━━━━━━━━━━━━━━━━━\u001b[0m\u001b[37m\u001b[0m \u001b[1m1s\u001b[0m 575ms/step\n",
      "Image: /content/drive/MyDrive/ml/test_notebook/3.jpg, Predicted Label: Original\n",
      "Image: /content/drive/MyDrive/ml/test_notebook/4.jpg, Predicted Label: Original\n",
      "Image: /content/drive/MyDrive/ml/test_notebook/2.jpg, Predicted Label: Original\n",
      "Image: /content/drive/MyDrive/ml/test_notebook/8.jpg, Predicted Label: Original\n",
      "Image: /content/drive/MyDrive/ml/test_notebook/5.jpg, Predicted Label: Digital\n",
      "Image: /content/drive/MyDrive/ml/test_notebook/6.jpg, Predicted Label: Original\n",
      "Image: /content/drive/MyDrive/ml/test_notebook/7.jpg, Predicted Label: Original\n",
      "Image: /content/drive/MyDrive/ml/test_notebook/1.jpg, Predicted Label: Original\n"
     ]
    }
   ],
   "source": [
    "# To Test on batch\n",
    "\n",
    "# Define a function to preprocess images for testing\n",
    "def preprocess_single_image(image_path):\n",
    "    \"\"\"\n",
    "    Preprocess a single image to match the input shape for the model.\n",
    "    \"\"\"\n",
    "    image = cv2.imread(image_path)\n",
    "    if image is None:\n",
    "        raise ValueError(f\"Could not read image: {image_path}\")\n",
    "    image = cv2.resize(image, (img_width, img_height))  # Resize to the required dimensions\n",
    "\n",
    "    # Apply preprocessing steps\n",
    "    edges = apply_hed_detection(image)\n",
    "    frequency = apply_frequency_analysis(image)\n",
    "    texture = apply_texture_analysis(image)\n",
    "\n",
    "    # Stack all channels into a single array\n",
    "    processed_image = np.stack([image[:, :, 0], edges, frequency, texture], axis=-1)\n",
    "\n",
    "    # Add batch dimension\n",
    "    processed_image = np.expand_dims(processed_image, axis=0)  # Shape: (1, img_height, img_width, 4)\n",
    "\n",
    "    return processed_image\n",
    "\n",
    "# Define a function to load and preprocess all images in a directory\n",
    "def load_and_preprocess_images(test_dir):\n",
    "    \"\"\"\n",
    "    Load and preprocess all images from the specified directory.\n",
    "    \"\"\"\n",
    "    test_image_paths = [\n",
    "        os.path.join(test_dir, f) for f in os.listdir(test_dir)\n",
    "        if f.endswith(('.jpg', '.jpeg', '.png'))\n",
    "    ]\n",
    "\n",
    "    preprocessed_images = []\n",
    "    for path in test_image_paths:\n",
    "        try:\n",
    "            preprocessed_image = preprocess_single_image(path)\n",
    "            preprocessed_images.append(preprocessed_image[0])  # Remove the batch dimension for stacking\n",
    "        except Exception as e:\n",
    "            print(f\"Error processing {path}: {e}\")\n",
    "\n",
    "    return test_image_paths, np.array(preprocessed_images)  # Convert to a single NumPy array\n",
    "\n",
    "# Directory containing new test images\n",
    "test_dir = '/content/drive/MyDrive/ml/test_notebook'  # Replace with the path to your test image directory\n",
    "\n",
    "# Load and preprocess the test images\n",
    "test_image_paths, test_images = load_and_preprocess_images(test_dir)\n",
    "\n",
    "print(f\"Shape of the test images batch: {test_images.shape}\")  # Check the shape\n",
    "\n",
    "# Make predictions\n",
    "predictions = model.predict(test_images)\n",
    "\n",
    "# Display results for all images\n",
    "for path, pred in zip(test_image_paths, predictions):\n",
    "    label = \"Original\" if pred < 0.5 else \"Digital\"\n",
    "    print(f\"Image: {path}, Predicted Label: {label}\")\n",
    "\n"
   ]
  },
  {
   "cell_type": "code",
   "execution_count": null,
   "metadata": {
    "id": "U4ZFDF_MqM-v"
   },
   "outputs": [],
   "source": []
  }
 ],
 "metadata": {
  "colab": {
   "provenance": []
  },
  "kernelspec": {
   "display_name": "Python 3 (ipykernel)",
   "language": "python",
   "name": "python3"
  },
  "language_info": {
   "codemirror_mode": {
    "name": "ipython",
    "version": 3
   },
   "file_extension": ".py",
   "mimetype": "text/x-python",
   "name": "python",
   "nbconvert_exporter": "python",
   "pygments_lexer": "ipython3",
   "version": "3.9.12"
  }
 },
 "nbformat": 4,
 "nbformat_minor": 1
}
